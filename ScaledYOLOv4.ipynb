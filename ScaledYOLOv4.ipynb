{
  "nbformat": 4,
  "nbformat_minor": 0,
  "metadata": {
    "colab": {
      "name": "ScaledYOLOv4.ipynb",
      "provenance": [],
      "collapsed_sections": [],
      "authorship_tag": "ABX9TyOuFId/Qd/x+r0403BQ0LAP",
      "include_colab_link": true
    },
    "kernelspec": {
      "name": "python3",
      "display_name": "Python 3"
    },
    "language_info": {
      "name": "python"
    },
    "accelerator": "GPU",
    "widgets": {
      "application/vnd.jupyter.widget-state+json": {
        "10ed16c0d68840229d9e014fa1642ec7": {
          "model_module": "@jupyter-widgets/controls",
          "model_name": "HBoxModel",
          "state": {
            "_view_name": "HBoxView",
            "_dom_classes": [],
            "_model_name": "HBoxModel",
            "_view_module": "@jupyter-widgets/controls",
            "_model_module_version": "1.5.0",
            "_view_count": null,
            "_view_module_version": "1.5.0",
            "box_style": "",
            "layout": "IPY_MODEL_e72b5a0c2b9241c1911209fec355c84c",
            "_model_module": "@jupyter-widgets/controls",
            "children": [
              "IPY_MODEL_4ca9ef465c494a89a1cd838b197714ee",
              "IPY_MODEL_a8b6380ffab34648824a3e4b084ddd32"
            ]
          }
        },
        "e72b5a0c2b9241c1911209fec355c84c": {
          "model_module": "@jupyter-widgets/base",
          "model_name": "LayoutModel",
          "state": {
            "_view_name": "LayoutView",
            "grid_template_rows": null,
            "right": null,
            "justify_content": null,
            "_view_module": "@jupyter-widgets/base",
            "overflow": null,
            "_model_module_version": "1.2.0",
            "_view_count": null,
            "flex_flow": null,
            "width": null,
            "min_width": null,
            "border": null,
            "align_items": null,
            "bottom": null,
            "_model_module": "@jupyter-widgets/base",
            "top": null,
            "grid_column": null,
            "overflow_y": null,
            "overflow_x": null,
            "grid_auto_flow": null,
            "grid_area": null,
            "grid_template_columns": null,
            "flex": null,
            "_model_name": "LayoutModel",
            "justify_items": null,
            "grid_row": null,
            "max_height": null,
            "align_content": null,
            "visibility": null,
            "align_self": null,
            "height": null,
            "min_height": null,
            "padding": null,
            "grid_auto_rows": null,
            "grid_gap": null,
            "max_width": null,
            "order": null,
            "_view_module_version": "1.2.0",
            "grid_template_areas": null,
            "object_position": null,
            "object_fit": null,
            "grid_auto_columns": null,
            "margin": null,
            "display": null,
            "left": null
          }
        },
        "4ca9ef465c494a89a1cd838b197714ee": {
          "model_module": "@jupyter-widgets/controls",
          "model_name": "FloatProgressModel",
          "state": {
            "_view_name": "ProgressView",
            "style": "IPY_MODEL_98654de91fe84e7c9bc96764cb02274d",
            "_dom_classes": [],
            "description": "100%",
            "_model_name": "FloatProgressModel",
            "bar_style": "success",
            "max": 819257867,
            "_view_module": "@jupyter-widgets/controls",
            "_model_module_version": "1.5.0",
            "value": 819257867,
            "_view_count": null,
            "_view_module_version": "1.5.0",
            "orientation": "horizontal",
            "min": 0,
            "description_tooltip": null,
            "_model_module": "@jupyter-widgets/controls",
            "layout": "IPY_MODEL_8c226daf8bca4094bd3d6331bb74c3eb"
          }
        },
        "a8b6380ffab34648824a3e4b084ddd32": {
          "model_module": "@jupyter-widgets/controls",
          "model_name": "HTMLModel",
          "state": {
            "_view_name": "HTMLView",
            "style": "IPY_MODEL_70717d1b24224cddbd73494bcf9de4d4",
            "_dom_classes": [],
            "description": "",
            "_model_name": "HTMLModel",
            "placeholder": "​",
            "_view_module": "@jupyter-widgets/controls",
            "_model_module_version": "1.5.0",
            "value": " 781M/781M [00:12&lt;00:00, 68.0MB/s]",
            "_view_count": null,
            "_view_module_version": "1.5.0",
            "description_tooltip": null,
            "_model_module": "@jupyter-widgets/controls",
            "layout": "IPY_MODEL_634f3e4c0798492798cf6a9802c60d61"
          }
        },
        "98654de91fe84e7c9bc96764cb02274d": {
          "model_module": "@jupyter-widgets/controls",
          "model_name": "ProgressStyleModel",
          "state": {
            "_view_name": "StyleView",
            "_model_name": "ProgressStyleModel",
            "description_width": "initial",
            "_view_module": "@jupyter-widgets/base",
            "_model_module_version": "1.5.0",
            "_view_count": null,
            "_view_module_version": "1.2.0",
            "bar_color": null,
            "_model_module": "@jupyter-widgets/controls"
          }
        },
        "8c226daf8bca4094bd3d6331bb74c3eb": {
          "model_module": "@jupyter-widgets/base",
          "model_name": "LayoutModel",
          "state": {
            "_view_name": "LayoutView",
            "grid_template_rows": null,
            "right": null,
            "justify_content": null,
            "_view_module": "@jupyter-widgets/base",
            "overflow": null,
            "_model_module_version": "1.2.0",
            "_view_count": null,
            "flex_flow": null,
            "width": null,
            "min_width": null,
            "border": null,
            "align_items": null,
            "bottom": null,
            "_model_module": "@jupyter-widgets/base",
            "top": null,
            "grid_column": null,
            "overflow_y": null,
            "overflow_x": null,
            "grid_auto_flow": null,
            "grid_area": null,
            "grid_template_columns": null,
            "flex": null,
            "_model_name": "LayoutModel",
            "justify_items": null,
            "grid_row": null,
            "max_height": null,
            "align_content": null,
            "visibility": null,
            "align_self": null,
            "height": null,
            "min_height": null,
            "padding": null,
            "grid_auto_rows": null,
            "grid_gap": null,
            "max_width": null,
            "order": null,
            "_view_module_version": "1.2.0",
            "grid_template_areas": null,
            "object_position": null,
            "object_fit": null,
            "grid_auto_columns": null,
            "margin": null,
            "display": null,
            "left": null
          }
        },
        "70717d1b24224cddbd73494bcf9de4d4": {
          "model_module": "@jupyter-widgets/controls",
          "model_name": "DescriptionStyleModel",
          "state": {
            "_view_name": "StyleView",
            "_model_name": "DescriptionStyleModel",
            "description_width": "",
            "_view_module": "@jupyter-widgets/base",
            "_model_module_version": "1.5.0",
            "_view_count": null,
            "_view_module_version": "1.2.0",
            "_model_module": "@jupyter-widgets/controls"
          }
        },
        "634f3e4c0798492798cf6a9802c60d61": {
          "model_module": "@jupyter-widgets/base",
          "model_name": "LayoutModel",
          "state": {
            "_view_name": "LayoutView",
            "grid_template_rows": null,
            "right": null,
            "justify_content": null,
            "_view_module": "@jupyter-widgets/base",
            "overflow": null,
            "_model_module_version": "1.2.0",
            "_view_count": null,
            "flex_flow": null,
            "width": null,
            "min_width": null,
            "border": null,
            "align_items": null,
            "bottom": null,
            "_model_module": "@jupyter-widgets/base",
            "top": null,
            "grid_column": null,
            "overflow_y": null,
            "overflow_x": null,
            "grid_auto_flow": null,
            "grid_area": null,
            "grid_template_columns": null,
            "flex": null,
            "_model_name": "LayoutModel",
            "justify_items": null,
            "grid_row": null,
            "max_height": null,
            "align_content": null,
            "visibility": null,
            "align_self": null,
            "height": null,
            "min_height": null,
            "padding": null,
            "grid_auto_rows": null,
            "grid_gap": null,
            "max_width": null,
            "order": null,
            "_view_module_version": "1.2.0",
            "grid_template_areas": null,
            "object_position": null,
            "object_fit": null,
            "grid_auto_columns": null,
            "margin": null,
            "display": null,
            "left": null
          }
        }
      }
    }
  },
  "cells": [
    {
      "cell_type": "markdown",
      "metadata": {
        "id": "view-in-github",
        "colab_type": "text"
      },
      "source": [
        "<a href=\"https://colab.research.google.com/github/swaingotnochill/ML/blob/master/ScaledYOLOv4.ipynb\" target=\"_parent\"><img src=\"https://colab.research.google.com/assets/colab-badge.svg\" alt=\"Open In Colab\"/></a>"
      ]
    },
    {
      "cell_type": "markdown",
      "metadata": {
        "id": "Rt8nGjLqPCW_"
      },
      "source": [
        "> Scaled Yolo v4: Inference and Evaluation\n"
      ]
    },
    {
      "cell_type": "code",
      "metadata": {
        "colab": {
          "base_uri": "https://localhost:8080/"
        },
        "id": "LIHlAywAO9z4",
        "outputId": "12a5a466-9958-4227-d1a2-702998e4fefd"
      },
      "source": [
        "# clone Scaled_YOLOv4\n",
        "!git clone https://github.com/roboflow-ai/ScaledYOLOv4.git  # clone repo\n",
        "%cd /content/ScaledYOLOv4/\n",
        "#checkout the yolov4-large branch\n",
        "!git checkout yolov4-large"
      ],
      "execution_count": 5,
      "outputs": [
        {
          "output_type": "stream",
          "text": [
            "Cloning into 'ScaledYOLOv4'...\n",
            "remote: Enumerating objects: 128, done.\u001b[K\n",
            "remote: Total 128 (delta 0), reused 0 (delta 0), pack-reused 128\u001b[K\n",
            "Receiving objects: 100% (128/128), 338.47 KiB | 28.21 MiB/s, done.\n",
            "Resolving deltas: 100% (52/52), done.\n",
            "/content/ScaledYOLOv4\n",
            "Already on 'yolov4-large'\n",
            "Your branch is up to date with 'origin/yolov4-large'.\n"
          ],
          "name": "stdout"
        }
      ]
    },
    {
      "cell_type": "code",
      "metadata": {
        "colab": {
          "base_uri": "https://localhost:8080/"
        },
        "id": "FHgelMIVQ25D",
        "outputId": "f68cfdcf-8ae5-425d-d9ce-1e409a964f9c"
      },
      "source": [
        "import torch\n",
        "print('Using torch %s %s' % (torch.__version__, torch.cuda.get_device_properties(0) if torch.cuda.is_available() else 'CPU'))"
      ],
      "execution_count": 6,
      "outputs": [
        {
          "output_type": "stream",
          "text": [
            "Using torch 1.8.0+cu101 _CudaDeviceProperties(name='Tesla T4', major=7, minor=5, total_memory=15109MB, multi_processor_count=40)\n"
          ],
          "name": "stdout"
        }
      ]
    },
    {
      "cell_type": "code",
      "metadata": {
        "colab": {
          "base_uri": "https://localhost:8080/"
        },
        "id": "Xme35PnjRebv",
        "outputId": "de3e167d-c78d-41b1-a184-7ef52bc980b8"
      },
      "source": [
        "#install mish activation funciton for cuda\n",
        "%cd /content/\n",
        "!git clone https://github.com/JunnYu/mish-cuda\n",
        "%cd mish-cuda\n",
        "!python setup.py build install"
      ],
      "execution_count": 7,
      "outputs": [
        {
          "output_type": "stream",
          "text": [
            "/content\n",
            "fatal: destination path 'mish-cuda' already exists and is not an empty directory.\n",
            "/content/mish-cuda\n",
            "/usr/lib/python3.7/distutils/extension.py:131: UserWarning: Unknown Extension options: 'headers'\n",
            "  warnings.warn(msg)\n",
            "running build\n",
            "running build_py\n",
            "running egg_info\n",
            "writing src/mish_cuda.egg-info/PKG-INFO\n",
            "writing dependency_links to src/mish_cuda.egg-info/dependency_links.txt\n",
            "writing requirements to src/mish_cuda.egg-info/requires.txt\n",
            "writing top-level names to src/mish_cuda.egg-info/top_level.txt\n",
            "/usr/local/lib/python3.7/dist-packages/torch/utils/cpp_extension.py:369: UserWarning: Attempted to use ninja as the BuildExtension backend but we could not find ninja.. Falling back to using the slow distutils backend.\n",
            "  warnings.warn(msg.format('we could not find ninja.'))\n",
            "writing manifest file 'src/mish_cuda.egg-info/SOURCES.txt'\n",
            "running build_ext\n",
            "running install\n",
            "running bdist_egg\n",
            "installing library code to build/bdist.linux-x86_64/egg\n",
            "running install_lib\n",
            "creating build/bdist.linux-x86_64/egg\n",
            "creating build/bdist.linux-x86_64/egg/mish_cuda\n",
            "copying build/lib.linux-x86_64-3.7/mish_cuda/__init__.py -> build/bdist.linux-x86_64/egg/mish_cuda\n",
            "copying build/lib.linux-x86_64-3.7/mish_cuda/_C.cpython-37m-x86_64-linux-gnu.so -> build/bdist.linux-x86_64/egg/mish_cuda\n",
            "byte-compiling build/bdist.linux-x86_64/egg/mish_cuda/__init__.py to __init__.cpython-37.pyc\n",
            "creating stub loader for mish_cuda/_C.cpython-37m-x86_64-linux-gnu.so\n",
            "byte-compiling build/bdist.linux-x86_64/egg/mish_cuda/_C.py to _C.cpython-37.pyc\n",
            "creating build/bdist.linux-x86_64/egg/EGG-INFO\n",
            "copying src/mish_cuda.egg-info/PKG-INFO -> build/bdist.linux-x86_64/egg/EGG-INFO\n",
            "copying src/mish_cuda.egg-info/SOURCES.txt -> build/bdist.linux-x86_64/egg/EGG-INFO\n",
            "copying src/mish_cuda.egg-info/dependency_links.txt -> build/bdist.linux-x86_64/egg/EGG-INFO\n",
            "copying src/mish_cuda.egg-info/not-zip-safe -> build/bdist.linux-x86_64/egg/EGG-INFO\n",
            "copying src/mish_cuda.egg-info/requires.txt -> build/bdist.linux-x86_64/egg/EGG-INFO\n",
            "copying src/mish_cuda.egg-info/top_level.txt -> build/bdist.linux-x86_64/egg/EGG-INFO\n",
            "writing build/bdist.linux-x86_64/egg/EGG-INFO/native_libs.txt\n",
            "creating 'dist/mish_cuda-0.0.3-py3.7-linux-x86_64.egg' and adding 'build/bdist.linux-x86_64/egg' to it\n",
            "removing 'build/bdist.linux-x86_64/egg' (and everything under it)\n",
            "Processing mish_cuda-0.0.3-py3.7-linux-x86_64.egg\n",
            "removing '/usr/local/lib/python3.7/dist-packages/mish_cuda-0.0.3-py3.7-linux-x86_64.egg' (and everything under it)\n",
            "creating /usr/local/lib/python3.7/dist-packages/mish_cuda-0.0.3-py3.7-linux-x86_64.egg\n",
            "Extracting mish_cuda-0.0.3-py3.7-linux-x86_64.egg to /usr/local/lib/python3.7/dist-packages\n",
            "mish-cuda 0.0.3 is already the active version in easy-install.pth\n",
            "\n",
            "Installed /usr/local/lib/python3.7/dist-packages/mish_cuda-0.0.3-py3.7-linux-x86_64.egg\n",
            "Processing dependencies for mish-cuda==0.0.3\n",
            "Searching for torch==1.8.0+cu101\n",
            "Best match: torch 1.8.0+cu101\n",
            "Adding torch 1.8.0+cu101 to easy-install.pth file\n",
            "Installing convert-caffe2-to-onnx script to /usr/local/bin\n",
            "Installing convert-onnx-to-caffe2 script to /usr/local/bin\n",
            "\n",
            "Using /usr/local/lib/python3.7/dist-packages\n",
            "Searching for numpy==1.19.5\n",
            "Best match: numpy 1.19.5\n",
            "Adding numpy 1.19.5 to easy-install.pth file\n",
            "Installing f2py script to /usr/local/bin\n",
            "Installing f2py3 script to /usr/local/bin\n",
            "Installing f2py3.7 script to /usr/local/bin\n",
            "\n",
            "Using /usr/local/lib/python3.7/dist-packages\n",
            "Searching for typing-extensions==3.7.4.3\n",
            "Best match: typing-extensions 3.7.4.3\n",
            "Adding typing-extensions 3.7.4.3 to easy-install.pth file\n",
            "\n",
            "Using /usr/local/lib/python3.7/dist-packages\n",
            "Finished processing dependencies for mish-cuda==0.0.3\n"
          ],
          "name": "stdout"
        }
      ]
    },
    {
      "cell_type": "code",
      "metadata": {
        "colab": {
          "base_uri": "https://localhost:8080/"
        },
        "id": "_FgwjnhSRi8h",
        "outputId": "8adfff70-6c14-4f2d-c12d-52124836867e"
      },
      "source": [
        "%cd /content/ScaledYOLOv4/\n"
      ],
      "execution_count": 8,
      "outputs": [
        {
          "output_type": "stream",
          "text": [
            "/content/ScaledYOLOv4\n"
          ],
          "name": "stdout"
        }
      ]
    },
    {
      "cell_type": "code",
      "metadata": {
        "colab": {
          "base_uri": "https://localhost:8080/"
        },
        "id": "AYEZlD-PIM4g",
        "outputId": "4c7359bf-e4e3-4fb3-c234-ef80e580f157"
      },
      "source": [
        "%mkdir weights \n",
        "%cd weights"
      ],
      "execution_count": 9,
      "outputs": [
        {
          "output_type": "stream",
          "text": [
            "/content/ScaledYOLOv4/weights\n"
          ],
          "name": "stdout"
        }
      ]
    },
    {
      "cell_type": "code",
      "metadata": {
        "colab": {
          "base_uri": "https://localhost:8080/"
        },
        "id": "yW956gODHJzu",
        "outputId": "58d5255e-5637-4c75-d874-db30ce7f7715"
      },
      "source": [
        "!gdown --id 1aXZZE999sHMP1gev60XhNChtHPRMH3Fz #yolov4-p5.pt"
      ],
      "execution_count": 10,
      "outputs": [
        {
          "output_type": "stream",
          "text": [
            "Downloading...\n",
            "From: https://drive.google.com/uc?id=1aXZZE999sHMP1gev60XhNChtHPRMH3Fz\n",
            "To: /content/ScaledYOLOv4/weights/yolov4-p5.pt\n",
            "142MB [00:03, 42.7MB/s]\n"
          ],
          "name": "stdout"
        }
      ]
    },
    {
      "cell_type": "code",
      "metadata": {
        "colab": {
          "base_uri": "https://localhost:8080/"
        },
        "id": "4gHSgHzaHYhp",
        "outputId": "1802060a-389f-4431-9395-3c1e4a421382"
      },
      "source": [
        "!gdown --id 15CL05ZufFk2krbRS993fqlG40Wb0HTyr #yolov4-p5_.pt\n",
        "!gdown --id 1aB7May8oPYzBqbgwYSZHuATPXyxh9xnf #yolov4-p6.pt\n",
        "!gdown --id 1Q8oG3lBVVoS0-UwNOBsDsPkq9VKs9UcC #yolov4-p6_.pt\n",
        "!gdown --id 18fGlzgEJTkUEiBG4hW00pyedJKNnYLP3 #yolov4-p7.pt"
      ],
      "execution_count": 11,
      "outputs": [
        {
          "output_type": "stream",
          "text": [
            "Downloading...\n",
            "From: https://drive.google.com/uc?id=15CL05ZufFk2krbRS993fqlG40Wb0HTyr\n",
            "To: /content/ScaledYOLOv4/weights/yolov4-p5_.pt\n",
            "142MB [00:00, 147MB/s]\n",
            "Downloading...\n",
            "From: https://drive.google.com/uc?id=1aB7May8oPYzBqbgwYSZHuATPXyxh9xnf\n",
            "To: /content/ScaledYOLOv4/weights/yolov4-p6.pt\n",
            "256MB [00:03, 65.0MB/s]\n",
            "Downloading...\n",
            "From: https://drive.google.com/uc?id=1Q8oG3lBVVoS0-UwNOBsDsPkq9VKs9UcC\n",
            "To: /content/ScaledYOLOv4/weights/yolov4-p6_.pt\n",
            "256MB [00:01, 171MB/s]\n",
            "Downloading...\n",
            "From: https://drive.google.com/uc?id=18fGlzgEJTkUEiBG4hW00pyedJKNnYLP3\n",
            "To: /content/ScaledYOLOv4/weights/yolov4-p7.pt\n",
            "576MB [00:09, 61.4MB/s]\n"
          ],
          "name": "stdout"
        }
      ]
    },
    {
      "cell_type": "code",
      "metadata": {
        "colab": {
          "base_uri": "https://localhost:8080/"
        },
        "id": "hlWtbEqkNSla",
        "outputId": "6e757140-944b-460f-ecd0-d6930b29bedb"
      },
      "source": [
        "%cd /content/ScaledYOLOv4"
      ],
      "execution_count": 12,
      "outputs": [
        {
          "output_type": "stream",
          "text": [
            "/content/ScaledYOLOv4\n"
          ],
          "name": "stdout"
        }
      ]
    },
    {
      "cell_type": "code",
      "metadata": {
        "colab": {
          "base_uri": "https://localhost:8080/",
          "height": 66,
          "referenced_widgets": [
            "10ed16c0d68840229d9e014fa1642ec7",
            "e72b5a0c2b9241c1911209fec355c84c",
            "4ca9ef465c494a89a1cd838b197714ee",
            "a8b6380ffab34648824a3e4b084ddd32",
            "98654de91fe84e7c9bc96764cb02274d",
            "8c226daf8bca4094bd3d6331bb74c3eb",
            "70717d1b24224cddbd73494bcf9de4d4",
            "634f3e4c0798492798cf6a9802c60d61"
          ]
        },
        "id": "LvHbOIjlNHxV",
        "outputId": "560e92c8-c98a-4641-ba25-2b3b792359e6"
      },
      "source": [
        "# Download COCO val2017\n",
        "torch.hub.download_url_to_file('https://github.com/ultralytics/yolov5/releases/download/v1.0/coco2017val.zip', 'tmp.zip')\n",
        "!unzip -q tmp.zip -d ../ && rm tmp.zip"
      ],
      "execution_count": 13,
      "outputs": [
        {
          "output_type": "display_data",
          "data": {
            "application/vnd.jupyter.widget-view+json": {
              "model_id": "10ed16c0d68840229d9e014fa1642ec7",
              "version_minor": 0,
              "version_major": 2
            },
            "text/plain": [
              "HBox(children=(FloatProgress(value=0.0, max=819257867.0), HTML(value='')))"
            ]
          },
          "metadata": {
            "tags": []
          }
        },
        {
          "output_type": "stream",
          "text": [
            "\n"
          ],
          "name": "stdout"
        }
      ]
    },
    {
      "cell_type": "code",
      "metadata": {
        "colab": {
          "base_uri": "https://localhost:8080/"
        },
        "id": "kcY3LKZXUGnc",
        "outputId": "66b40d85-8c04-4d74-931d-6838cfaf25e2"
      },
      "source": [
        "!pip install -U  PyYAML"
      ],
      "execution_count": 16,
      "outputs": [
        {
          "output_type": "stream",
          "text": [
            "Collecting PyYAML\n",
            "\u001b[?25l  Downloading https://files.pythonhosted.org/packages/7a/a5/393c087efdc78091afa2af9f1378762f9821c9c1d7a22c5753fb5ac5f97a/PyYAML-5.4.1-cp37-cp37m-manylinux1_x86_64.whl (636kB)\n",
            "\r\u001b[K     |▌                               | 10kB 23.2MB/s eta 0:00:01\r\u001b[K     |█                               | 20kB 27.3MB/s eta 0:00:01\r\u001b[K     |█▌                              | 30kB 22.5MB/s eta 0:00:01\r\u001b[K     |██                              | 40kB 25.5MB/s eta 0:00:01\r\u001b[K     |██▋                             | 51kB 25.1MB/s eta 0:00:01\r\u001b[K     |███                             | 61kB 27.7MB/s eta 0:00:01\r\u001b[K     |███▋                            | 71kB 18.2MB/s eta 0:00:01\r\u001b[K     |████▏                           | 81kB 19.0MB/s eta 0:00:01\r\u001b[K     |████▋                           | 92kB 18.0MB/s eta 0:00:01\r\u001b[K     |█████▏                          | 102kB 18.2MB/s eta 0:00:01\r\u001b[K     |█████▋                          | 112kB 18.2MB/s eta 0:00:01\r\u001b[K     |██████▏                         | 122kB 18.2MB/s eta 0:00:01\r\u001b[K     |██████▊                         | 133kB 18.2MB/s eta 0:00:01\r\u001b[K     |███████▏                        | 143kB 18.2MB/s eta 0:00:01\r\u001b[K     |███████▊                        | 153kB 18.2MB/s eta 0:00:01\r\u001b[K     |████████▎                       | 163kB 18.2MB/s eta 0:00:01\r\u001b[K     |████████▊                       | 174kB 18.2MB/s eta 0:00:01\r\u001b[K     |█████████▎                      | 184kB 18.2MB/s eta 0:00:01\r\u001b[K     |█████████▉                      | 194kB 18.2MB/s eta 0:00:01\r\u001b[K     |██████████▎                     | 204kB 18.2MB/s eta 0:00:01\r\u001b[K     |██████████▉                     | 215kB 18.2MB/s eta 0:00:01\r\u001b[K     |███████████▎                    | 225kB 18.2MB/s eta 0:00:01\r\u001b[K     |███████████▉                    | 235kB 18.2MB/s eta 0:00:01\r\u001b[K     |████████████▍                   | 245kB 18.2MB/s eta 0:00:01\r\u001b[K     |████████████▉                   | 256kB 18.2MB/s eta 0:00:01\r\u001b[K     |█████████████▍                  | 266kB 18.2MB/s eta 0:00:01\r\u001b[K     |██████████████                  | 276kB 18.2MB/s eta 0:00:01\r\u001b[K     |██████████████▍                 | 286kB 18.2MB/s eta 0:00:01\r\u001b[K     |███████████████                 | 296kB 18.2MB/s eta 0:00:01\r\u001b[K     |███████████████▍                | 307kB 18.2MB/s eta 0:00:01\r\u001b[K     |████████████████                | 317kB 18.2MB/s eta 0:00:01\r\u001b[K     |████████████████▌               | 327kB 18.2MB/s eta 0:00:01\r\u001b[K     |█████████████████               | 337kB 18.2MB/s eta 0:00:01\r\u001b[K     |█████████████████▌              | 348kB 18.2MB/s eta 0:00:01\r\u001b[K     |██████████████████              | 358kB 18.2MB/s eta 0:00:01\r\u001b[K     |██████████████████▌             | 368kB 18.2MB/s eta 0:00:01\r\u001b[K     |███████████████████             | 378kB 18.2MB/s eta 0:00:01\r\u001b[K     |███████████████████▋            | 389kB 18.2MB/s eta 0:00:01\r\u001b[K     |████████████████████            | 399kB 18.2MB/s eta 0:00:01\r\u001b[K     |████████████████████▋           | 409kB 18.2MB/s eta 0:00:01\r\u001b[K     |█████████████████████           | 419kB 18.2MB/s eta 0:00:01\r\u001b[K     |█████████████████████▋          | 430kB 18.2MB/s eta 0:00:01\r\u001b[K     |██████████████████████▏         | 440kB 18.2MB/s eta 0:00:01\r\u001b[K     |██████████████████████▋         | 450kB 18.2MB/s eta 0:00:01\r\u001b[K     |███████████████████████▏        | 460kB 18.2MB/s eta 0:00:01\r\u001b[K     |███████████████████████▊        | 471kB 18.2MB/s eta 0:00:01\r\u001b[K     |████████████████████████▏       | 481kB 18.2MB/s eta 0:00:01\r\u001b[K     |████████████████████████▊       | 491kB 18.2MB/s eta 0:00:01\r\u001b[K     |█████████████████████████▏      | 501kB 18.2MB/s eta 0:00:01\r\u001b[K     |█████████████████████████▊      | 512kB 18.2MB/s eta 0:00:01\r\u001b[K     |██████████████████████████▎     | 522kB 18.2MB/s eta 0:00:01\r\u001b[K     |██████████████████████████▊     | 532kB 18.2MB/s eta 0:00:01\r\u001b[K     |███████████████████████████▎    | 542kB 18.2MB/s eta 0:00:01\r\u001b[K     |███████████████████████████▉    | 552kB 18.2MB/s eta 0:00:01\r\u001b[K     |████████████████████████████▎   | 563kB 18.2MB/s eta 0:00:01\r\u001b[K     |████████████████████████████▉   | 573kB 18.2MB/s eta 0:00:01\r\u001b[K     |█████████████████████████████▍  | 583kB 18.2MB/s eta 0:00:01\r\u001b[K     |█████████████████████████████▉  | 593kB 18.2MB/s eta 0:00:01\r\u001b[K     |██████████████████████████████▍ | 604kB 18.2MB/s eta 0:00:01\r\u001b[K     |██████████████████████████████▉ | 614kB 18.2MB/s eta 0:00:01\r\u001b[K     |███████████████████████████████▍| 624kB 18.2MB/s eta 0:00:01\r\u001b[K     |████████████████████████████████| 634kB 18.2MB/s eta 0:00:01\r\u001b[K     |████████████████████████████████| 645kB 18.2MB/s \n",
            "\u001b[?25hInstalling collected packages: PyYAML\n",
            "  Found existing installation: PyYAML 3.13\n",
            "    Uninstalling PyYAML-3.13:\n",
            "      Successfully uninstalled PyYAML-3.13\n",
            "Successfully installed PyYAML-5.4.1\n"
          ],
          "name": "stdout"
        }
      ]
    },
    {
      "cell_type": "code",
      "metadata": {
        "colab": {
          "base_uri": "https://localhost:8080/"
        },
        "id": "ZuVe6uRmW-UF",
        "outputId": "aad4c1cf-a1a7-40c1-f2eb-34b021aa6789"
      },
      "source": [
        "# download {yolov4-p5.pt, yolov4-p6.pt, yolov4-p7.pt} and put them in /yolo/weights/ folder.\n",
        "!python test.py --img 896 --conf 0.001 --batch 8 --device 0 --data coco.yaml --weights weights/yolov4-p5.pt\n",
        "!python test.py --img 1280 --conf 0.001 --batch 8 --device 0 --data coco.yaml --weights weights/yolov4-p6.pt\n",
        "!python test.py --img 1536 --conf 0.001 --batch 8 --device 0 --data coco.yaml --weights weights/yolov4-p7.pt"
      ],
      "execution_count": 17,
      "outputs": [
        {
          "output_type": "stream",
          "text": [
            "Namespace(augment=False, batch_size=8, conf_thres=0.001, data='./data/coco.yaml', device='0', img_size=896, iou_thres=0.65, merge=False, save_json=True, save_txt=False, single_cls=False, task='val', verbose=False, weights=['weights/yolov4-p5.pt'])\n",
            "Using CUDA device0 _CudaDeviceProperties(name='Tesla T4', total_memory=15109MB)\n",
            "\n",
            "Fusing layers... Model Summary: 331 layers, 7.07943e+07 parameters, 6.81919e+07 gradients\n",
            "Scanning labels ../coco/labels/val2017.cache (4952 found, 0 missing, 48 empty, 0 duplicate, for 5000 images): 100% 5000/5000 [00:00<00:00, 14418.75it/s]\n",
            "               Class      Images     Targets           P           R      mAP@.5  mAP@.5:.95: 100% 625/625 [03:33<00:00,  2.92it/s]\n",
            "                 all       5e+03    3.63e+04       0.456       0.765        0.69       0.497\n",
            "Speed: 35.2/2.3/37.4 ms inference/NMS/total per 896x896 image at batch-size 8\n",
            "\n",
            "COCO mAP with pycocotools... saving detections_val2017__results.json...\n",
            "loading annotations into memory...\n",
            "Done (t=0.43s)\n",
            "creating index...\n",
            "index created!\n",
            "Loading and preparing results...\n",
            "DONE (t=4.70s)\n",
            "creating index...\n",
            "index created!\n",
            "Running per image evaluation...\n",
            "Evaluate annotation type *bbox*\n",
            "DONE (t=83.76s).\n",
            "Accumulating evaluation results...\n",
            "DONE (t=12.78s).\n",
            " Average Precision  (AP) @[ IoU=0.50:0.95 | area=   all | maxDets=100 ] = 0.512\n",
            " Average Precision  (AP) @[ IoU=0.50      | area=   all | maxDets=100 ] = 0.698\n",
            " Average Precision  (AP) @[ IoU=0.75      | area=   all | maxDets=100 ] = 0.562\n",
            " Average Precision  (AP) @[ IoU=0.50:0.95 | area= small | maxDets=100 ] = 0.350\n",
            " Average Precision  (AP) @[ IoU=0.50:0.95 | area=medium | maxDets=100 ] = 0.563\n",
            " Average Precision  (AP) @[ IoU=0.50:0.95 | area= large | maxDets=100 ] = 0.640\n",
            " Average Recall     (AR) @[ IoU=0.50:0.95 | area=   all | maxDets=  1 ] = 0.385\n",
            " Average Recall     (AR) @[ IoU=0.50:0.95 | area=   all | maxDets= 10 ] = 0.640\n",
            " Average Recall     (AR) @[ IoU=0.50:0.95 | area=   all | maxDets=100 ] = 0.698\n",
            " Average Recall     (AR) @[ IoU=0.50:0.95 | area= small | maxDets=100 ] = 0.555\n",
            " Average Recall     (AR) @[ IoU=0.50:0.95 | area=medium | maxDets=100 ] = 0.744\n",
            " Average Recall     (AR) @[ IoU=0.50:0.95 | area= large | maxDets=100 ] = 0.829\n",
            "Namespace(augment=False, batch_size=8, conf_thres=0.001, data='./data/coco.yaml', device='0', img_size=1280, iou_thres=0.65, merge=False, save_json=True, save_txt=False, single_cls=False, task='val', verbose=False, weights=['weights/yolov4-p6.pt'])\n",
            "Using CUDA device0 _CudaDeviceProperties(name='Tesla T4', total_memory=15109MB)\n",
            "\n",
            "Fusing layers... Model Summary: 417 layers, 1.2753e+08 parameters, 1.23263e+08 gradients\n",
            "Scanning labels ../coco/labels/val2017.cache (4952 found, 0 missing, 48 empty, 0 duplicate, for 5000 images): 100% 5000/5000 [00:00<00:00, 14793.87it/s]\n",
            "               Class      Images     Targets           P           R      mAP@.5  mAP@.5:.95: 100% 625/625 [07:43<00:00,  1.35it/s]\n",
            "                 all       5e+03    3.63e+04       0.452       0.796       0.714       0.522\n",
            "Speed: 84.8/2.3/87.2 ms inference/NMS/total per 1280x1280 image at batch-size 8\n",
            "\n",
            "COCO mAP with pycocotools... saving detections_val2017__results.json...\n",
            "loading annotations into memory...\n",
            "Done (t=0.43s)\n",
            "creating index...\n",
            "index created!\n",
            "Loading and preparing results...\n",
            "DONE (t=5.60s)\n",
            "creating index...\n",
            "index created!\n",
            "Running per image evaluation...\n",
            "Evaluate annotation type *bbox*\n",
            "DONE (t=80.18s).\n",
            "Accumulating evaluation results...\n",
            "DONE (t=15.26s).\n",
            " Average Precision  (AP) @[ IoU=0.50:0.95 | area=   all | maxDets=100 ] = 0.539\n",
            " Average Precision  (AP) @[ IoU=0.50      | area=   all | maxDets=100 ] = 0.720\n",
            " Average Precision  (AP) @[ IoU=0.75      | area=   all | maxDets=100 ] = 0.590\n",
            " Average Precision  (AP) @[ IoU=0.50:0.95 | area= small | maxDets=100 ] = 0.393\n",
            " Average Precision  (AP) @[ IoU=0.50:0.95 | area=medium | maxDets=100 ] = 0.583\n",
            " Average Precision  (AP) @[ IoU=0.50:0.95 | area= large | maxDets=100 ] = 0.666\n",
            " Average Recall     (AR) @[ IoU=0.50:0.95 | area=   all | maxDets=  1 ] = 0.395\n",
            " Average Recall     (AR) @[ IoU=0.50:0.95 | area=   all | maxDets= 10 ] = 0.665\n",
            " Average Recall     (AR) @[ IoU=0.50:0.95 | area=   all | maxDets=100 ] = 0.721\n",
            " Average Recall     (AR) @[ IoU=0.50:0.95 | area= small | maxDets=100 ] = 0.592\n",
            " Average Recall     (AR) @[ IoU=0.50:0.95 | area=medium | maxDets=100 ] = 0.758\n",
            " Average Recall     (AR) @[ IoU=0.50:0.95 | area= large | maxDets=100 ] = 0.840\n",
            "Namespace(augment=False, batch_size=8, conf_thres=0.001, data='./data/coco.yaml', device='0', img_size=1536, iou_thres=0.65, merge=False, save_json=True, save_txt=False, single_cls=False, task='val', verbose=False, weights=['weights/yolov4-p7.pt'])\n",
            "Using CUDA device0 _CudaDeviceProperties(name='Tesla T4', total_memory=15109MB)\n",
            "\n",
            "Fusing layers... Model Summary: 503 layers, 2.87475e+08 parameters, 2.7862e+08 gradients\n",
            "Scanning labels ../coco/labels/val2017.cache (4952 found, 0 missing, 48 empty, 0 duplicate, for 5000 images): 100% 5000/5000 [00:00<00:00, 14831.00it/s]\n",
            "               Class      Images     Targets           P           R      mAP@.5  mAP@.5:.95: 100% 625/625 [19:25<00:00,  1.87s/it]\n",
            "                 all       5e+03    3.63e+04       0.435       0.808       0.723       0.534\n",
            "Speed: 224.3/2.9/227.2 ms inference/NMS/total per 1536x1536 image at batch-size 8\n",
            "\n",
            "COCO mAP with pycocotools... saving detections_val2017__results.json...\n",
            "loading annotations into memory...\n",
            "Done (t=0.43s)\n",
            "creating index...\n",
            "index created!\n",
            "Loading and preparing results...\n",
            "DONE (t=5.69s)\n",
            "creating index...\n",
            "index created!\n",
            "Running per image evaluation...\n",
            "Evaluate annotation type *bbox*\n",
            "DONE (t=90.05s).\n",
            "Accumulating evaluation results...\n",
            "DONE (t=14.07s).\n",
            " Average Precision  (AP) @[ IoU=0.50:0.95 | area=   all | maxDets=100 ] = 0.550\n",
            " Average Precision  (AP) @[ IoU=0.50      | area=   all | maxDets=100 ] = 0.729\n",
            " Average Precision  (AP) @[ IoU=0.75      | area=   all | maxDets=100 ] = 0.602\n",
            " Average Precision  (AP) @[ IoU=0.50:0.95 | area= small | maxDets=100 ] = 0.398\n",
            " Average Precision  (AP) @[ IoU=0.50:0.95 | area=medium | maxDets=100 ] = 0.599\n",
            " Average Precision  (AP) @[ IoU=0.50:0.95 | area= large | maxDets=100 ] = 0.684\n",
            " Average Recall     (AR) @[ IoU=0.50:0.95 | area=   all | maxDets=  1 ] = 0.403\n",
            " Average Recall     (AR) @[ IoU=0.50:0.95 | area=   all | maxDets= 10 ] = 0.669\n",
            " Average Recall     (AR) @[ IoU=0.50:0.95 | area=   all | maxDets=100 ] = 0.729\n",
            " Average Recall     (AR) @[ IoU=0.50:0.95 | area= small | maxDets=100 ] = 0.599\n",
            " Average Recall     (AR) @[ IoU=0.50:0.95 | area=medium | maxDets=100 ] = 0.769\n",
            " Average Recall     (AR) @[ IoU=0.50:0.95 | area= large | maxDets=100 ] = 0.845\n"
          ],
          "name": "stdout"
        }
      ]
    },
    {
      "cell_type": "code",
      "metadata": {
        "id": "lUKHNVO2azJb"
      },
      "source": [
        ""
      ],
      "execution_count": null,
      "outputs": []
    }
  ]
}